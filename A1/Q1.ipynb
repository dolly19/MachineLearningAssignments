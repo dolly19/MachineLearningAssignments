{
  "nbformat": 4,
  "nbformat_minor": 0,
  "metadata": {
    "colab": {
      "name": "A1_1.ipynb",
      "provenance": [],
      "collapsed_sections": []
    },
    "kernelspec": {
      "name": "python3",
      "display_name": "Python 3"
    },
    "language_info": {
      "name": "python"
    }
  },
  "cells": [
    {
      "cell_type": "markdown",
      "metadata": {
        "id": "bhO3qv-VXZyv"
      },
      "source": [
        "Importing the required libraries"
      ]
    },
    {
      "cell_type": "code",
      "metadata": {
        "id": "MPttiXCRND6L"
      },
      "source": [
        "import numpy as np\n",
        "import pandas as pd\n",
        "from matplotlib import pyplot as plt\n",
        "from random import seed\n",
        "from sklearn.linear_model import Ridge, Lasso\n",
        "from sklearn.model_selection import GridSearchCV"
      ],
      "execution_count": 1,
      "outputs": []
    },
    {
      "cell_type": "markdown",
      "metadata": {
        "id": "s2ZpNH6SuxnK"
      },
      "source": [
        "#Question 1.1\n"
      ]
    },
    {
      "cell_type": "markdown",
      "metadata": {
        "id": "c047YRIrIzau"
      },
      "source": [
        "Step 1 - loading the dataset\n"
      ]
    },
    {
      "cell_type": "code",
      "metadata": {
        "id": "bXAczaAiNlMv"
      },
      "source": [
        "df = pd.read_csv('abalone.data')"
      ],
      "execution_count": 2,
      "outputs": []
    },
    {
      "cell_type": "markdown",
      "metadata": {
        "id": "QB7E-NGsI7Rv"
      },
      "source": [
        "Step 2 - preprocessing and spliting the dataset into 8:2 of train and test"
      ]
    },
    {
      "cell_type": "code",
      "metadata": {
        "id": "h9MY_ypIZceZ"
      },
      "source": [
        "'''\n",
        "AS regression analysis requires numerical variable , so to fit the categorical variable of column sex into our model we have to \n",
        "create dummy variables i.e M=1 F=2 I=0 \n",
        "'''\n",
        "df[['Sex']]=df[['Sex']].apply(lambda col:pd.Categorical(col).codes)\n"
      ],
      "execution_count": 3,
      "outputs": []
    },
    {
      "cell_type": "code",
      "metadata": {
        "id": "PiBi_14-Crc9"
      },
      "source": [
        "#shuffling of data to ensure iid \n",
        "np.random.seed(0)\n",
        "df = df.sample(frac=1)\n",
        "\n",
        "#Dividing the data into training and testing sets\n",
        "X = df.iloc[:, :-1].values\n",
        "Y = df.iloc[:, -1].values\n",
        "split = 0.8\n",
        "m = X.shape[0]\n",
        "spilt_size = int(split * m)\n",
        "X_train, X_test = X[:spilt_size], X[spilt_size:]\n",
        "Y_train, Y_test = Y[:spilt_size], Y[spilt_size:]"
      ],
      "execution_count": 4,
      "outputs": []
    },
    {
      "cell_type": "markdown",
      "metadata": {
        "id": "xSQJ0_l_Owpa"
      },
      "source": [
        "Step 3 - implementing the cost and gradient descent function from scratch"
      ]
    },
    {
      "cell_type": "code",
      "metadata": {
        "id": "hy0d6HRV03wR"
      },
      "source": [
        "#Cost Function\n",
        "\"\"\" \n",
        "    Parameters:\n",
        "    x: features\n",
        "    y: target values\n",
        "    w: weights\n",
        "    b: bias\n",
        "    \n",
        "    Returns:\n",
        "    cost: cost with current weights and bias\n",
        "    Implemented the cost function just to see the performance of model against each iteration\n",
        "    \"\"\"\n",
        "def cost_function(x, y, w, b):\n",
        "    m = len(y)\n",
        "    cost = np.sum((((x.dot(w) + b) - y) ** 2) / (2*m))\n",
        "    return cost"
      ],
      "execution_count": 5,
      "outputs": []
    },
    {
      "cell_type": "code",
      "metadata": {
        "id": "WMQe4VPGSKLK"
      },
      "source": [
        "#Gradient Descent Function\n",
        "\"\"\"\n",
        "    Parameters:\n",
        "    X: features\n",
        "    y: target values\n",
        "    w: initial weights\n",
        "    b: initial bias\n",
        "    alpha: learning rate\n",
        "    epochs: number of iterations\n",
        "    \n",
        "    Returns:\n",
        "    costs: cost per epoch\n",
        "    w: final weights\n",
        "    b: final bias\n",
        "    \"\"\"\n",
        "def gradient_descent_function(x, y, w, b, alpha=0.01, epochs=1000):\n",
        "    \n",
        "    m = len(y)\n",
        "    costs = [0] * epochs\n",
        "    \n",
        "    for epoch in range(epochs):\n",
        "        # calculating y hat\n",
        "        ŷ = x.dot(w) + b\n",
        "\n",
        "        # calculating the loss\n",
        "        loss = ŷ - y\n",
        "        \n",
        "        # calculating the gradient descent\n",
        "        weight_gradient = x.T.dot(loss) / m\n",
        "        bias_gradient = np.sum(loss) / m\n",
        "        \n",
        "        # updating weights and bias\n",
        "        w = w - alpha*weight_gradient\n",
        "        b = b - alpha*bias_gradient\n",
        "        \n",
        "        # storing the curernt lost value\n",
        "        cost = cost_function(x, y, w, b)\n",
        "        costs[epoch] = cost\n",
        "        \n",
        "    return w, b, costs"
      ],
      "execution_count": 6,
      "outputs": []
    },
    {
      "cell_type": "code",
      "metadata": {
        "id": "g0AvEiJeVJu5"
      },
      "source": [
        "'''At first intializing some random weights for each feature and bias and then calling the gradient descent function to get the\n",
        "best model coefficients and bias\n",
        "'''\n",
        "#initial random weights\n",
        "w = np.random.randn(X_train.shape[1])\n",
        "#initial bias\n",
        "b = 0\n",
        "weights, bias, costs = gradient_descent_function(X_train, Y_train, w, b, epochs=2500);"
      ],
      "execution_count": 7,
      "outputs": []
    },
    {
      "cell_type": "code",
      "metadata": {
        "colab": {
          "base_uri": "https://localhost:8080/",
          "height": 265
        },
        "id": "kMeTPO2NViOR",
        "outputId": "070b2c87-2464-4a60-94c2-196bcb46af1c"
      },
      "source": [
        "#to see the performance of model , plotting the costs against each iteration. \n",
        "plt.plot(costs)\n",
        "plt.show()"
      ],
      "execution_count": 8,
      "outputs": [
        {
          "output_type": "display_data",
          "data": {
            "image/png": "[encoded data removed]",
            "text/plain": [
              "<Figure size 432x288 with 1 Axes>"
            ]
          },
          "metadata": {
            "needs_background": "light"
          }
        }
      ]
    },
    {
      "cell_type": "markdown",
      "metadata": {
        "id": "OHphOBlmSn-O"
      },
      "source": [
        "Step 4- Evaluating the model"
      ]
    },
    {
      "cell_type": "code",
      "metadata": {
        "id": "apC5P227cnfG"
      },
      "source": [
        "#function to find the y predicted\n",
        "\"\"\"\n",
        "    Parameters:\n",
        "    x: features\n",
        "    w: weights\n",
        "    b: bias\n",
        "    \n",
        "    Returns:\n",
        "    y_pred: predicted values\n",
        "\n",
        "    \"\"\" \n",
        "    \n",
        "def predict(x,w,b):\n",
        "  return x.dot(w)+b"
      ],
      "execution_count": 9,
      "outputs": []
    },
    {
      "cell_type": "code",
      "metadata": {
        "id": "J636yIUjclOY"
      },
      "source": [
        "import math\n",
        "\n",
        "# calculating RMSE\n",
        "\"\"\"\n",
        "    Parameters:\n",
        "    y_pred: predicted values\n",
        "    y: actual values\n",
        "    \n",
        "    Returns:\n",
        "    rmse: RMSE\n",
        "    \"\"\"\n",
        "\n",
        "def RMSE(y_pred, y):\n",
        "  mse = np.square(np.subtract(y,y_pred)).mean()\n",
        "  rmse = math.sqrt(mse)\n",
        "  return rmse\n",
        "    "
      ],
      "execution_count": 10,
      "outputs": []
    },
    {
      "cell_type": "code",
      "metadata": {
        "id": "Q6cNHcrHc23P",
        "colab": {
          "base_uri": "https://localhost:8080/"
        },
        "outputId": "dbbc574d-562d-4519-a50a-f97b27c141a3"
      },
      "source": [
        "#predicted values for train and test\n",
        "Y_pred = predict(X_test,weights,bias)\n",
        "Y_pred_from_train = predict(X_train,weights,bias)\n",
        "\n",
        "#calculating RMSE for train and test by passing predicted and actual values\n",
        "rmse_train = RMSE(Y_pred_from_train,Y_train)\n",
        "rmse_test = RMSE(Y_pred,Y_test)\n",
        "\n",
        "#printing the RMSE on training and testing data\n",
        "print(\"RMSE for training data  : {}\".format(rmse_train) +\", \"+ \"RMSE for testing data : {}\".format(rmse_test))"
      ],
      "execution_count": 11,
      "outputs": [
        {
          "output_type": "stream",
          "name": "stdout",
          "text": [
            "RMSE for training data  : 2.6020211149087733, RMSE for testing data : 2.78200861361564\n"
          ]
        }
      ]
    },
    {
      "cell_type": "markdown",
      "metadata": {
        "id": "0X293TOk4L_q"
      },
      "source": [
        "#Question 1.2.a\n"
      ]
    },
    {
      "cell_type": "code",
      "metadata": {
        "id": "B5WTcCAW4PUE"
      },
      "source": [
        " \"\"\"\n",
        "        \n",
        "  Parameters:\n",
        "  None(globally calling training and testing dataset)\n",
        "  \n",
        "  return:\n",
        "  Best model coefficients in Lasso and ridge among 10 different values of aplha that are tried.\n",
        "\n",
        "  As we know lower the values of RMSE indicate better fit, so i have used the minimum rmse in\n",
        "  a array and then find its value of coefficient when inturn the best coef among all other. \n",
        "  \n",
        "  \"\"\"\n",
        "\n",
        "def regularization():\n",
        "\n",
        "  #different alphas to test the model\n",
        "  alpha = [0.3, 0.001, 0.002, 0.01, 0.0001, 0.02, 0.1, 0.25, 0.5, 1, 4, 9]\n",
        "  rmse_lasso = list()\n",
        "  rmse_ridge = list()\n",
        "  best_coef_lasso = list()\n",
        "  best_coef_ridge =  list()\n",
        "\n",
        "  for x in alpha :\n",
        "    ridge_reg = Ridge(alpha =x)\n",
        "    lasso_reg = Lasso(alpha =x)\n",
        "\n",
        "    #training the model\n",
        "    ridge_reg.fit(X_train,Y_train)\n",
        "    lasso_reg.fit(X_train,Y_train)\n",
        "\n",
        "    #calculating y predicted\n",
        "    lasso_reg_pred = lasso_reg.predict(X_test) \n",
        "    ridge_reg_pred = ridge_reg.predict(X_test)\n",
        "\n",
        "    #calculating the RMSE\n",
        "    rmse_lasso.append(RMSE(lasso_reg_pred,Y_test))\n",
        "    rmse_ridge.append(RMSE(ridge_reg_pred,Y_test))\n",
        "\n",
        "    #finding the best coefficients and bias\n",
        "    best_coef_lasso.append(lasso_reg.coef_)\n",
        "    best_coef_ridge.append(ridge_reg.coef_)\n",
        "\n",
        "#plotting the Alpha vs RMSE graph\n",
        "  plt.xlabel('alpha')\n",
        "  plt.ylabel('RMSE')\n",
        "  plt.plot(alpha, rmse_ridge, marker='o',markersize=7, color='blue', label='Ridge Regression')\n",
        "  plt.plot(alpha, rmse_lasso, marker='o',markersize=7, color='red', label='Lasso Regression')\n",
        "  plt.xscale('log')\n",
        "  plt.legend()\n",
        "  plt.title(\"Alpha vs RMSE for both Ridge and Lasso Regression\")\n",
        "  \n",
        "#finding the best model coefficients\n",
        "  min_rmse_lasso = min(rmse_lasso)\n",
        "  min_rmse_ridge = min(rmse_ridge)\n",
        "  \n",
        "  idx_lasso = rmse_lasso.index(min_rmse_lasso)\n",
        "  idx_ridge = rmse_ridge.index(min_rmse_ridge)\n",
        "\n",
        "  coef_lasso = best_coef_lasso[idx_lasso]\n",
        "  coef_ridge =  best_coef_ridge[idx_ridge]\n",
        "  # alL = alpha[idx_lasso]\n",
        "  # alR = alpha[idx_ridge]\n",
        "  # print(alL, alR)\n",
        "  print(\"Best model coefficients in Lasso: \")\n",
        "  print(coef_lasso)\n",
        "  print(\"Best model coefficients in Ridge: \")\n",
        "  print(coef_ridge)\n"
      ],
      "execution_count": 16,
      "outputs": []
    },
    {
      "cell_type": "code",
      "metadata": {
        "colab": {
          "base_uri": "https://localhost:8080/",
          "height": 418
        },
        "id": "qBLDPtJh-5yV",
        "outputId": "3fb3ce8a-a18c-4e9e-fd8b-b58d0bd16655"
      },
      "source": [
        "#calling the regularization function\n",
        "regularization()"
      ],
      "execution_count": 17,
      "outputs": [
        {
          "output_type": "stream",
          "name": "stdout",
          "text": [
            "0.01 1\n",
            "Best model coefficients in Lasso: \n",
            "[-6.92788529e-03  0.00000000e+00  7.02251102e+00  0.00000000e+00\n",
            "  4.62919697e+00 -1.35740546e+01 -0.00000000e+00  1.29932760e+01]\n",
            "Best model coefficients in Ridge: \n",
            "[ 2.17702354e-04  2.00232104e+00  7.30998612e+00  1.27771640e+01\n",
            "  6.96501139e+00 -1.70601236e+01 -6.65028574e+00  1.02662711e+01]\n"
          ]
        },
        {
          "output_type": "display_data",
          "data": {
            "image/png": "[encoded data removed]",
            "text/plain": [
              "<Figure size 432x288 with 1 Axes>"
            ]
          },
          "metadata": {
            "needs_background": "light"
          }
        }
      ]
    },
    {
      "cell_type": "markdown",
      "metadata": {
        "id": "xAlQtDJTpItR"
      },
      "source": [
        "#Question 1.2.b"
      ]
    },
    {
      "cell_type": "code",
      "metadata": {
        "id": "WLJxxNVvaHCP",
        "colab": {
          "base_uri": "https://localhost:8080/"
        },
        "outputId": "882878a4-5ac9-4160-8ec6-fada7568ae83"
      },
      "source": [
        "# performing Lasso and ridge regression using Grid search function\n",
        "\"\"\"    \n",
        "  Parameters:\n",
        "  None(globally calling training and testing dataset)\n",
        "  -------\n",
        "  return:\n",
        "  best alpha value and the best model coefficient for both Ridge and Lasso Regression\n",
        "\n",
        "\"\"\"\n",
        "\n",
        "def regularizationByGrid():\n",
        "  alphas = np.array([0.3, 0.001, 0.002, 0.01, 0.0001, 0.02, 0.1, 0.25, 0.5, 1, 4, 9])\n",
        "  \n",
        "  ridge_reg = Ridge()\n",
        "  lasso_reg = Lasso()\n",
        "  \n",
        "  grid_lasso = GridSearchCV(estimator= lasso_reg, param_grid=dict(alpha=alphas))\n",
        "  grid_ridge = GridSearchCV(estimator= ridge_reg, param_grid=dict(alpha=alphas))\n",
        "\n",
        "  #training the model\n",
        "  grid_ridge.fit(X_train,Y_train)\n",
        "  grid_lasso.fit(X_train,Y_train)\n",
        "  \n",
        "  \"\"\"\n",
        "  \n",
        "  Finding the best model coefficients and alpha values using best_estimator. \n",
        "  the GridSearchCV instance fitted with  best hyperparameters is stored in best_estimator_. \n",
        "  the coef_ and intercept_ are the fitted parameters of that best model.\n",
        "\n",
        "  \"\"\"\n",
        "  print(\"Lasso best alpha : {}\".format(grid_lasso.best_estimator_.alpha))\n",
        "  print(\"Lasso best coef : {}\".format(grid_lasso.best_estimator_.coef_))\n",
        "  print(\"Ridge best alpha : {}\".format(grid_ridge.best_estimator_.alpha))\n",
        "  print(\"Ridge best alpha : {}\".format(grid_ridge.best_estimator_.coef_))\n",
        "  \n",
        "#calling the function\n",
        "regularizationByGrid()\n",
        "\n"
      ],
      "execution_count": 14,
      "outputs": [
        {
          "output_type": "stream",
          "name": "stdout",
          "text": [
            "Lasso best alpha : 0.0001\n",
            "Lasso best coef : [ 1.05626470e-02 -1.81023244e+00  1.06972874e+01  2.50760776e+01\n",
            "  8.98929451e+00 -1.94063956e+01 -1.09133080e+01  7.68309185e+00]\n",
            "Ridge best alpha : 0.1\n",
            "Ridge best alpha : [ 9.64905191e-03 -1.35158940e+00  1.04107361e+01  2.29255383e+01\n",
            "  8.73339103e+00 -1.91518049e+01 -1.03794786e+01  8.16059198e+00]\n"
          ]
        }
      ]
    }
  ]
}