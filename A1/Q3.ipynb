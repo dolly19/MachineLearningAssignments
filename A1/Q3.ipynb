{
  "nbformat": 4,
  "nbformat_minor": 0,
  "metadata": {
    "colab": {
      "name": "A1_3.ipynb",
      "provenance": [],
      "collapsed_sections": []
    },
    "kernelspec": {
      "name": "python3",
      "display_name": "Python 3"
    },
    "language_info": {
      "name": "python"
    }
  },
  "cells": [
    {
      "cell_type": "markdown",
      "metadata": {
        "id": "aSphdGORSg13"
      },
      "source": [
        "Importing the required libraries"
      ]
    },
    {
      "cell_type": "code",
      "metadata": {
        "id": "hSPeHFnWpFNK"
      },
      "source": [
        "import numpy as np\n",
        "import pandas as pd\n",
        "from matplotlib import pyplot as plt\n",
        "from random import seed\n",
        "from random import randrange\n",
        "from sklearn.preprocessing import Binarizer\n",
        "from sklearn.metrics import confusion_matrix\n",
        "import warnings\n",
        "warnings.filterwarnings('ignore')"
      ],
      "execution_count": 1,
      "outputs": []
    },
    {
      "cell_type": "markdown",
      "metadata": {
        "id": "Ci7_4uiPS3_N"
      },
      "source": [
        "#Question 3.1"
      ]
    },
    {
      "cell_type": "markdown",
      "metadata": {
        "id": "ayytsJdvSnAh"
      },
      "source": [
        "Loading the dataset"
      ]
    },
    {
      "cell_type": "code",
      "metadata": {
        "id": "XbCMvbkRrVgp"
      },
      "source": [
        "test = pd.read_csv('fashion-mnist_test.csv')\n",
        "train = pd.read_csv('fashion-mnist_train.csv')"
      ],
      "execution_count": 2,
      "outputs": []
    },
    {
      "cell_type": "markdown",
      "metadata": {
        "id": "5j72thgrS1bU"
      },
      "source": [
        "preprocessing and extracting the required data"
      ]
    },
    {
      "cell_type": "code",
      "metadata": {
        "id": "2_Bp2IMS6qKw"
      },
      "source": [
        "#shuffling of data to ensure iid \n",
        "np.random.seed(0)\n",
        "train = train.sample(frac=1)\n",
        "test = test.sample(frac=1)"
      ],
      "execution_count": 3,
      "outputs": []
    },
    {
      "cell_type": "code",
      "metadata": {
        "id": "5yOddEb2sW66"
      },
      "source": [
        "#extracting the required data\n",
        "train = train.loc[(train[\"label\"] == 1) | (train[\"label\"] == 2)]\n",
        "test = test.loc[(test[\"label\"] == 1) | (test[\"label\"] == 2)]"
      ],
      "execution_count": 4,
      "outputs": []
    },
    {
      "cell_type": "code",
      "metadata": {
        "id": "tznL6FynzxXR"
      },
      "source": [
        "#Dividing the data into target and feature sample\n",
        "X_train = train.iloc[:,1:785]\n",
        "Y_train = train.iloc[:,0]\n",
        "X_test = test.iloc[:,1:785]\n",
        "Y_test = test.iloc[:,0]"
      ],
      "execution_count": 5,
      "outputs": []
    },
    {
      "cell_type": "code",
      "metadata": {
        "id": "uygPZOK95dp-"
      },
      "source": [
        "#binarizing the image\n",
        "binarizer = Binarizer(127)\n",
        "X_train= binarizer.fit_transform(X_train)\n",
        "X_test= binarizer.fit_transform(X_test)"
      ],
      "execution_count": 6,
      "outputs": []
    },
    {
      "cell_type": "code",
      "metadata": {
        "id": "9litX4ScpWGf"
      },
      "source": [
        "#accuracy function\n",
        "\"\"\" \n",
        "    Parameters:\n",
        "    y: actual values\n",
        "    y_pred: predicted values\n",
        "\n",
        "    Returns:\n",
        "    accuracy\n",
        "    \n",
        "    \"\"\"  \n",
        "def Accuracy(y, y_pred):\n",
        "\tcorrect = 0\n",
        "\tfor i in range(len(y)):\n",
        "\t\tif y[i] == y_pred[i]:\n",
        "\t\t\tcorrect += 1\n",
        "\treturn correct / float(len(y)) * 100.0"
      ],
      "execution_count": 7,
      "outputs": []
    },
    {
      "cell_type": "code",
      "metadata": {
        "id": "uEd5M7BepxnO"
      },
      "source": [
        "#implementing the naive bayes from scratch\n",
        "\"\"\" \n",
        "    Parameters:\n",
        "     x: features\n",
        "     y: target\n",
        "\n",
        "    Returns:\n",
        "    accuracy\n",
        "    \n",
        "    \"\"\"\n",
        "def fitting(X,y):\n",
        "  global mean , var , priors , classes\n",
        "  samples, features = X.shape\n",
        "  classes = np.unique(y)\n",
        "  n_classes = len(classes)\n",
        "\n",
        "  # calculating the mean, variance and prior P(H) for each class\n",
        "  mean = np.zeros([n_classes, features], dtype=np.float64)\n",
        "  var = np.zeros([n_classes, features], dtype=np.float64)\n",
        "  priors =  np.zeros(n_classes, dtype=np.float64)\n",
        "\n",
        "  # iterating in all classes\n",
        "  for i, c in enumerate(classes):\n",
        "\n",
        "    X_for_class_c = X[y==c].astype(int)\n",
        "    mean[i, :] = X_for_class_c.mean(axis=0)\n",
        "    var[i, :] = X_for_class_c.var(axis=0)\n",
        "    priors[i] = X_for_class_c.shape[0] / float(samples) \n"
      ],
      "execution_count": 8,
      "outputs": []
    },
    {
      "cell_type": "code",
      "metadata": {
        "id": "i6GoQ7UxmsKC"
      },
      "source": [
        "# for predicting test set\n",
        "def prediction(X):\n",
        "  y_pred = []\n",
        "  for x in X :\n",
        "    # calculating posterior probability for each class\n",
        "    posteriors = []\n",
        "    for i, c in enumerate(classes):\n",
        "      prior = np.log(priors[i])\n",
        "      # calculating likelihood for each class\n",
        "      m = mean[i]\n",
        "      v = var[i]\n",
        "      num = np.exp(- (x-m)**2 / (2 * v))\n",
        "      den = np.sqrt(2 * np.pi * v)\n",
        "      posterior = np.sum(np.log(num / den))\n",
        "      posterior = prior + posterior\n",
        "      posteriors.append(posterior)\n",
        "      \n",
        "      #  gives class with highest posterior probability\n",
        "    maX = classes[np.argmax(posteriors)]\n",
        "    y_pred.append(maX)\n",
        "    \n",
        "  return y_pred"
      ],
      "execution_count": 9,
      "outputs": []
    },
    {
      "cell_type": "code",
      "metadata": {
        "colab": {
          "base_uri": "https://localhost:8080/"
        },
        "id": "e5y7jYmXOc85",
        "outputId": "c17bf041-0c6d-4a6f-fbd4-012c73cc92ef"
      },
      "source": [
        "fitting(X_train, Y_train)\n",
        "y_p = prediction(X_test)\n",
        "y = Y_test.tolist()\n",
        "ac = Accuracy(y , y_p)\n",
        "print(f\"Naive Bayes accuracy: {ac}\")"
      ],
      "execution_count": 10,
      "outputs": [
        {
          "output_type": "stream",
          "name": "stdout",
          "text": [
            "Naive Bayes accuracy: 50.0\n"
          ]
        }
      ]
    },
    {
      "cell_type": "markdown",
      "metadata": {
        "id": "CkpS5fQcWZ7u"
      },
      "source": [
        "#Question 3.2"
      ]
    },
    {
      "cell_type": "code",
      "metadata": {
        "id": "S-vjSVVpPTnQ"
      },
      "source": [
        "#spliting a dataset into k folds\n",
        "\"\"\" \n",
        "    Parameters:\n",
        "     dataset: features\n",
        "     n_folds : k\n",
        "\n",
        "    Returns:\n",
        "    data_spilt : spilted data into k folds\n",
        "    \"\"\"\n",
        "def cross_validation_split(dataset, n_folds):\n",
        "  dataset_split = list()\n",
        "  dataset_copy = list(dataset)\n",
        "  #fold size = total rows/total folds\n",
        "  fold_size = int(len(dataset) / n_folds)\n",
        "  for i in range(n_folds):\n",
        "    fold = list()\n",
        "    while len(fold) < fold_size:\n",
        "      #randomly spilting the entire dataset into k folds\n",
        "      index = randrange(len(dataset_copy))\n",
        "      fold.append(dataset_copy.pop(index))\n",
        "    dataset_split.append(fold)\n",
        "  return dataset_split"
      ],
      "execution_count": 11,
      "outputs": []
    },
    {
      "cell_type": "code",
      "metadata": {
        "id": "5TQxBncVycSS"
      },
      "source": [
        "#helper function for k fold\n",
        "\"\"\" \n",
        "    Parameters:\n",
        "     train: train data\n",
        "     test : test data\n",
        "\n",
        "    Returns:\n",
        "    pred_Y : predicted values\n",
        "    \"\"\"\n",
        "def Naive_Bayes_helper(train, test):\n",
        "\n",
        "  train =  pd.DataFrame(train)\n",
        "  test = pd.DataFrame(test)\n",
        "  X_train = train.iloc[:,1:785]\n",
        "  Y_train = train.iloc[:,0]\n",
        "  X_test = test.iloc[:,1:785]\n",
        "  Y_test = test.iloc[:,0]\n",
        "  binarizer = Binarizer(127)\n",
        "  X_train= binarizer.fit_transform(X_train)\n",
        "  X_test= binarizer.fit_transform(X_test)\n",
        "  fitting(X_train, Y_train)\n",
        "  pred_Y = prediction(X_test)\n",
        "  \n",
        "  return pred_Y\n"
      ],
      "execution_count": 12,
      "outputs": []
    },
    {
      "cell_type": "code",
      "metadata": {
        "colab": {
          "base_uri": "https://localhost:8080/"
        },
        "id": "AEdxQYHyyciq",
        "outputId": "8e9b3970-5c7e-4658-b93f-8d292d03bcb7"
      },
      "source": [
        "#K fold cross validation\n",
        "\"\"\" \n",
        "    Parameters:\n",
        "     dataset: features\n",
        "     n_folds : k\n",
        "\n",
        "    Returns:\n",
        "    scores : scores on each folds \n",
        "    predicted : predicted vales\n",
        "    \n",
        "    \"\"\"\n",
        "def kFold_cross_validation(dataset, n_folds):\n",
        "  folds = cross_validation_split(dataset, n_folds)\n",
        "  scores = list()\n",
        "  for i in range(n_folds):\n",
        "    fold= folds[i]\n",
        "    train_data =list(folds)\n",
        "    train_data.pop(i)\n",
        "    train_data = sum(train_data, [])\n",
        "    test_data= list()\n",
        "    for row in fold:\n",
        "      row_copy = list(row)\n",
        "      test_data.append(row_copy)\n",
        "      row_copy[0] = None\n",
        "    predicted = Naive_Bayes_helper(train_data, test_data)\n",
        "    actual = [row[0] for row in fold]\n",
        "     # calculating accuracy on each fold\n",
        "    accuracy = Accuracy(actual, predicted)\n",
        "    scores.append(accuracy)\n",
        "  return scores , predicted , actual\n",
        "\n",
        "data_set= pd.concat([train, test])\n",
        "n_folds= 4\n",
        "scores , predict ,actual  = kFold_cross_validation(np.array(data_set), n_folds)\n",
        "print(\"Scores  : {} \".format(scores))\n",
        "#average of all the recorded accuracy\n",
        "accuracy =  np.average(scores)\n",
        "print(\"Mean Accuracy  : {} \".format(accuracy))"
      ],
      "execution_count": 13,
      "outputs": [
        {
          "output_type": "stream",
          "name": "stdout",
          "text": [
            "Scores  : [50.31428571428571, 50.68571428571429, 49.714285714285715, 49.28571428571429] \n",
            "Mean Accuracy  : 50.0 \n"
          ]
        }
      ]
    },
    {
      "cell_type": "markdown",
      "metadata": {
        "id": "DEzwYAsku0uB"
      },
      "source": [
        "#Question 3.3"
      ]
    },
    {
      "cell_type": "markdown",
      "metadata": {
        "id": "dRqY5Y1du4bA"
      },
      "source": [
        "Making the Confusion Matrix and calculating accuracy, precision recall"
      ]
    },
    {
      "cell_type": "code",
      "metadata": {
        "id": "36n2T2YGe8vD"
      },
      "source": [
        "from sklearn.metrics import confusion_matrix\n",
        "from sklearn.metrics import recall_score\n",
        "from sklearn.metrics import precision_score\n",
        "from sklearn.metrics import accuracy_score\n",
        "from sklearn.metrics import classification_report\n",
        "from sklearn.metrics import roc_curve"
      ],
      "execution_count": 14,
      "outputs": []
    },
    {
      "cell_type": "code",
      "metadata": {
        "id": "cuAlq53-Hq7G",
        "colab": {
          "base_uri": "https://localhost:8080/"
        },
        "outputId": "787b3256-2ce7-4283-83c8-de5d7bdc45f4"
      },
      "source": [
        "# for simple naive bayes\n",
        "fitting(X_train, Y_train)\n",
        "y_p = prediction(X_test)\n",
        "y = Y_test.tolist()\n",
        "confusion_matrix(y, y_p)\n",
        "\n",
        "con_mat = confusion_matrix(y, y_p)\n",
        "acc = accuracy_score(y, y_p)\n",
        "prec = precision_score(y, y_p)\n",
        "recall = recall_score(y, y_p)\n",
        "\n",
        "print(f\"Confusion Matrix: {con_mat}\")\n",
        "print(f\"Accuracy: {acc}\")\n",
        "print(f\"Precision : {prec}\")\n",
        "print(f\"Recall : {recall}\")\n",
        "print(classification_report(y, y_p))"
      ],
      "execution_count": 15,
      "outputs": [
        {
          "output_type": "stream",
          "name": "stdout",
          "text": [
            "Confusion Matrix: [[1000    0]\n",
            " [1000    0]]\n",
            "Accuracy: 0.5\n",
            "Precision : 0.5\n",
            "Recall : 1.0\n",
            "              precision    recall  f1-score   support\n",
            "\n",
            "           1       0.50      1.00      0.67      1000\n",
            "           2       0.00      0.00      0.00      1000\n",
            "\n",
            "    accuracy                           0.50      2000\n",
            "   macro avg       0.25      0.50      0.33      2000\n",
            "weighted avg       0.25      0.50      0.33      2000\n",
            "\n"
          ]
        }
      ]
    },
    {
      "cell_type": "code",
      "metadata": {
        "colab": {
          "base_uri": "https://localhost:8080/"
        },
        "id": "h-5D-SwFZo4W",
        "outputId": "89082eed-ff5c-48c4-f2a7-5ba6b588496e"
      },
      "source": [
        "# for k fold naive bayes\n",
        "con_mat = confusion_matrix(actual, predict)\n",
        "acc = accuracy_score(actual, predict)\n",
        "prec = precision_score(actual, predict)\n",
        "recall = recall_score(actual, predict)\n",
        "\n",
        "print(f\"Confusion Matrix: {con_mat}\")\n",
        "print(f\"Accuracy: {acc}\")\n",
        "print(f\"Precision : {prec}\")\n",
        "print(f\"Recall : {recall}\")\n",
        "print(classification_report(actual, predict))\n"
      ],
      "execution_count": 16,
      "outputs": [
        {
          "output_type": "stream",
          "name": "stdout",
          "text": [
            "Confusion Matrix: [[1725    0]\n",
            " [1775    0]]\n",
            "Accuracy: 0.4928571428571429\n",
            "Precision : 0.4928571428571429\n",
            "Recall : 1.0\n",
            "              precision    recall  f1-score   support\n",
            "\n",
            "           1       0.49      1.00      0.66      1725\n",
            "           2       0.00      0.00      0.00      1775\n",
            "\n",
            "    accuracy                           0.49      3500\n",
            "   macro avg       0.25      0.50      0.33      3500\n",
            "weighted avg       0.24      0.49      0.33      3500\n",
            "\n"
          ]
        }
      ]
    },
    {
      "cell_type": "markdown",
      "metadata": {
        "id": "_NjQXbIgvHsV"
      },
      "source": [
        "Plotting the ROC Curve"
      ]
    },
    {
      "cell_type": "code",
      "metadata": {
        "colab": {
          "base_uri": "https://localhost:8080/",
          "height": 312
        },
        "id": "OBRbl_qEoehX",
        "outputId": "22b9a06d-1580-433f-aa08-be7a5bc8f8b9"
      },
      "source": [
        "#ROC curve for K fold naive bayes\n",
        "fpr, tpr, thresholds = roc_curve(actual, predict , pos_label=1)\n",
        "plt.xlabel('False positive rate')\n",
        "plt.ylabel('True postive rate')\n",
        "plt.plot(fpr, tpr,markersize=2, color='blue', label='ROC curve')\n",
        "plt.legend()\n",
        "plt.title(\"ROC curve for K Fold\")"
      ],
      "execution_count": 17,
      "outputs": [
        {
          "output_type": "execute_result",
          "data": {
            "text/plain": [
              "Text(0.5, 1.0, 'ROC curve for K Fold')"
            ]
          },
          "metadata": {},
          "execution_count": 17
        },
        {
          "output_type": "display_data",
          "data": {
            "image/png": "[encoded data removed]",
            "text/plain": [
              "<Figure size 432x288 with 1 Axes>"
            ]
          },
          "metadata": {
            "needs_background": "light"
          }
        }
      ]
    },
    {
      "cell_type": "code",
      "metadata": {
        "colab": {
          "base_uri": "https://localhost:8080/",
          "height": 312
        },
        "id": "PL9LLW_VogUr",
        "outputId": "ae3ef6f7-30b7-463e-94a7-c335701f59ce"
      },
      "source": [
        "#ROC curve for simple naive bayes\n",
        "fpr, tpr, thresholds = roc_curve(y, y_p , pos_label=1)\n",
        "plt.xlabel('False positive rate')\n",
        "plt.ylabel('True postive rate')\n",
        "plt.plot(fpr, tpr,markersize=2, color='red', label='ROC curve')\n",
        "plt.legend()\n",
        "plt.title(\"ROC curve for naive bayes\")"
      ],
      "execution_count": 18,
      "outputs": [
        {
          "output_type": "execute_result",
          "data": {
            "text/plain": [
              "Text(0.5, 1.0, 'ROC curve for naive bayes')"
            ]
          },
          "metadata": {},
          "execution_count": 18
        },
        {
          "output_type": "display_data",
          "data": {
            "image/png": "[encoded data removed]",
            "text/plain": [
              "<Figure size 432x288 with 1 Axes>"
            ]
          },
          "metadata": {
            "needs_background": "light"
          }
        }
      ]
    }
  ]
}